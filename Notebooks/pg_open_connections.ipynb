{
 "cells": [
  {
   "attachments": {},
   "cell_type": "markdown",
   "metadata": {},
   "source": [
    "Open Transactions\n",
    "Resources: Troubleshooting High CPU Utilization in PostgreSQL Databases: A How-To Guide (https://jfrog.com/community/data-science/troubleshooting-high-cpu-utilization-in-postgresql-databases-a-how-to-guide/)"
   ]
  },
  {
   "cell_type": "code",
   "execution_count": null,
   "metadata": {},
   "outputs": [],
   "source": [
    "\n",
    "-- Open connections\n",
    "SELECT datname as db_name, \n",
    "\tpid, \n",
    "  usename, \n",
    "  application_name, \n",
    "  client_addr, \n",
    "  client_hostname,\n",
    "  xact_start, \n",
    "  state, \n",
    "  query, \n",
    "  backend_type\n",
    "FROM pg_stat_activity \n",
    "WHERE state = 'active';\n"
   ]
  },
  {
   "attachments": {},
   "cell_type": "markdown",
   "metadata": {},
   "source": [
    "https://stackoverflow.com/questions/35319597/how-to-stop-kill-a-query-in-postgresql"
   ]
  },
  {
   "cell_type": "code",
   "execution_count": null,
   "metadata": {},
   "outputs": [],
   "source": [
    "\n",
    "SELECT pg_cancel_backend(28309);\n",
    "/* https://stackoverflow.com/questions/35319597/how-to-stop-kill-a-query-in-postgresql \n",
    "This basically \"starts\" a request to terminate gracefully, which may be satisfied after some time, though the query comes back immediately.\n",
    "If the process cannot be killed, try: */\n",
    "SELECT pg_terminate_backend(<pid of the process>)\n"
   ]
  }
 ],
 "metadata": {
  "language_info": {
   "name": "python"
  },
  "orig_nbformat": 4
 },
 "nbformat": 4,
 "nbformat_minor": 2
}
