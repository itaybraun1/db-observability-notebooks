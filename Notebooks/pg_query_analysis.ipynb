{
 "cells": [
  {
   "attachments": {},
   "cell_type": "markdown",
   "metadata": {},
   "source": [
    "## Analyze an Execution plan\n",
    "\n",
    "TODO: get the plan dynamically"
   ]
  },
  {
   "cell_type": "code",
   "execution_count": 2,
   "metadata": {},
   "outputs": [
    {
     "name": "stdout",
     "output_type": "stream",
     "text": [
      "5583.95\n"
     ]
    }
   ],
   "source": [
    "import json\n",
    "# sql\n",
    "sql_command = \"\"\"SELECT * \n",
    "FROM postgres_air.account\n",
    "WHERE last_name = 'johns'\"\"\"\n",
    "# The EXPLAIN clause\n",
    "explain_properties = \"explain (verbose, format json)\"\n",
    "\n",
    "# The provided JSON plan\n",
    "plan_json = '[{\"Plan\":{\"Node Type\":\"Gather\",\"Parallel Aware\":false,\"Startup Cost\":1000,\"Total Cost\":5583.95,\"Plan Rows\":48,\"Plan Width\":53,\"Output\":[\"account_id\",\"login\",\"first_name\",\"last_name\",\"frequent_flyer_id\",\"update_ts\"],\"Workers Planned\":1,\"Single Copy\":false,\"Plans\":[{\"Node Type\":\"Seq Scan\",\"Parent Relationship\":\"Outer\",\"Parallel Aware\":true,\"Relation Name\":\"account\",\"Schema\":\"postgres_air\",\"Alias\":\"account\",\"Startup Cost\":0,\"Total Cost\":4579.15,\"Plan Rows\":28,\"Plan Width\":53,\"Output\":[\"account_id\",\"login\",\"first_name\",\"last_name\",\"frequent_flyer_id\",\"update_ts\"],\"Filter\":\"(account.last_name = \\'johns\\'::text)\"}]}}]'\n",
    "\n",
    "# Parse the JSON into a Python object\n",
    "plan_obj = json.loads(plan_json)\n",
    "\n",
    "# Extract the value of \"Total Cost\"\n",
    "cost = plan_obj[0]['Plan']['Total Cost']\n",
    "\n",
    "# Print the result\n",
    "print(cost)\n"
   ]
  }
 ],
 "metadata": {
  "kernelspec": {
   "display_name": "Python 3",
   "language": "python",
   "name": "python3"
  },
  "language_info": {
   "codemirror_mode": {
    "name": "ipython",
    "version": 3
   },
   "file_extension": ".py",
   "mimetype": "text/x-python",
   "name": "python",
   "nbconvert_exporter": "python",
   "pygments_lexer": "ipython3",
   "version": "3.10.2"
  },
  "orig_nbformat": 4
 },
 "nbformat": 4,
 "nbformat_minor": 2
}
