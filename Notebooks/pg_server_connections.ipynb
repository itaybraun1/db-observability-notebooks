{
 "cells": [
  {
   "attachments": {},
   "cell_type": "markdown",
   "metadata": {},
   "source": [
    "# Postgres Connections\n",
    "About: This notebook shows main data about the connections of the PG server\n",
    "pg_stat_statement: \n",
    "https://www.postgresql.org/docs/current/pgstatstatements.html \n"
   ]
  },
  {
   "attachments": {},
   "cell_type": "markdown",
   "metadata": {},
   "source": [
    "# Configuration\n",
    "Open a connection to the DB. Use a Connection String stored in a .cfg file"
   ]
  },
  {
   "cell_type": "code",
   "execution_count": 18,
   "metadata": {},
   "outputs": [],
   "source": [
    "import sqlalchemy\n",
    "import pandas as pd\n",
    "import configparser\n",
    "import matplotlib.pyplot as plt \n",
    "from IPython.display import HTML\n",
    "\n",
    "# Read from the Config file\n",
    "config = configparser.ConfigParser() \n",
    "config.read_file(open(r'../ipynb.cfg'))\n",
    "\n",
    "con_str = config.get('con_str', 'PG_AIRBASES') \n",
    "engine = sqlalchemy.create_engine(con_str)\n",
    "\n",
    "html_code = \"<h1>Metis Wrokflows - PG Server Connections Analysis</h1><h2>Configuration</h2>\"\n",
    "\n",
    "# print(\"Connecting with engine \" + str(engine))\n",
    "try:\n",
    "    connection = engine.connect()\n",
    "except (Exception, sqlalchemy.exc.SQLAlchemyError) as error:\n",
    "    print(\"Error while connecting to PostgreSQL database:\", error)\n"
   ]
  },
  {
   "attachments": {},
   "cell_type": "markdown",
   "metadata": {},
   "source": [
    "# Pre-Req\n",
    "Check whether the extension exists"
   ]
  },
  {
   "cell_type": "code",
   "execution_count": 19,
   "metadata": {},
   "outputs": [
    {
     "data": {
      "text/html": [
       "<div>\n",
       "<style scoped>\n",
       "    .dataframe tbody tr th:only-of-type {\n",
       "        vertical-align: middle;\n",
       "    }\n",
       "\n",
       "    .dataframe tbody tr th {\n",
       "        vertical-align: top;\n",
       "    }\n",
       "\n",
       "    .dataframe thead th {\n",
       "        text-align: right;\n",
       "    }\n",
       "</style>\n",
       "<table border=\"1\" class=\"dataframe\">\n",
       "  <thead>\n",
       "    <tr style=\"text-align: right;\">\n",
       "      <th></th>\n",
       "      <th>extension_exists</th>\n",
       "    </tr>\n",
       "  </thead>\n",
       "  <tbody>\n",
       "    <tr>\n",
       "      <th>0</th>\n",
       "      <td>true</td>\n",
       "    </tr>\n",
       "  </tbody>\n",
       "</table>\n",
       "</div>"
      ],
      "text/plain": [
       "  extension_exists\n",
       "0             true"
      ]
     },
     "execution_count": 19,
     "metadata": {},
     "output_type": "execute_result"
    }
   ],
   "source": [
    "\n",
    "query = \"\"\"\n",
    "SELECT CASE WHEN COUNT(*) > 0 THEN 'true' ELSE 'false' END AS extension_exists\n",
    "FROM pg_extension\n",
    "WHERE extname = 'pg_stat_statements';\n",
    "\"\"\"\n",
    "df = pd.read_sql_query(query, connection)\n",
    "df"
   ]
  },
  {
   "attachments": {},
   "cell_type": "markdown",
   "metadata": {},
   "source": [
    "## Connections\n",
    "Shows: confired max connvection vs actaul active and idle connections\n",
    "TODO: also show how quickly connections are recycled (=> a Proxy is needed). "
   ]
  },
  {
   "cell_type": "code",
   "execution_count": 20,
   "metadata": {},
   "outputs": [
    {
     "data": {
      "text/html": [
       "<div>\n",
       "<style scoped>\n",
       "    .dataframe tbody tr th:only-of-type {\n",
       "        vertical-align: middle;\n",
       "    }\n",
       "\n",
       "    .dataframe tbody tr th {\n",
       "        vertical-align: top;\n",
       "    }\n",
       "\n",
       "    .dataframe thead th {\n",
       "        text-align: right;\n",
       "    }\n",
       "</style>\n",
       "<table border=\"1\" class=\"dataframe\">\n",
       "  <thead>\n",
       "    <tr style=\"text-align: right;\">\n",
       "      <th></th>\n",
       "      <th>metric_name</th>\n",
       "      <th>value</th>\n",
       "      <th>short_desc</th>\n",
       "    </tr>\n",
       "  </thead>\n",
       "  <tbody>\n",
       "    <tr>\n",
       "      <th>0</th>\n",
       "      <td>configured_max_connection</td>\n",
       "      <td>835</td>\n",
       "      <td>Sets the maximum number of concurrent connecti...</td>\n",
       "    </tr>\n",
       "    <tr>\n",
       "      <th>1</th>\n",
       "      <td>active_connections</td>\n",
       "      <td>0</td>\n",
       "      <td>Active connections</td>\n",
       "    </tr>\n",
       "    <tr>\n",
       "      <th>2</th>\n",
       "      <td>idle_connections</td>\n",
       "      <td>71</td>\n",
       "      <td>Idle connections</td>\n",
       "    </tr>\n",
       "  </tbody>\n",
       "</table>\n",
       "</div>"
      ],
      "text/plain": [
       "                 metric_name value  \\\n",
       "0  configured_max_connection   835   \n",
       "1         active_connections     0   \n",
       "2           idle_connections    71   \n",
       "\n",
       "                                          short_desc  \n",
       "0  Sets the maximum number of concurrent connecti...  \n",
       "1                                 Active connections  \n",
       "2                                   Idle connections  "
      ]
     },
     "execution_count": 20,
     "metadata": {},
     "output_type": "execute_result"
    }
   ],
   "source": [
    "query_ccnnections_metrics = \"\"\"\n",
    "SELECT 'configured_max_connection' as metric_name, \n",
    "\tsetting as value, \n",
    "  short_desc\n",
    " FROM pg_settings \n",
    " WHERE name = 'max_connections'\n",
    " \n",
    "\tUnion all \n",
    "SELECT \n",
    "\t'active_connections' as metric_name,\n",
    "  COUNT(*)::text as value,\n",
    "  'Active connections' as short_desc\n",
    "FROM pg_stat_activity  \n",
    "WHERE pid <> pg_backend_pid() \n",
    "AND state = 'active'\n",
    "\n",
    "\tUnion all \n",
    "SELECT \n",
    "\t'idle_connections' as metric_name,\n",
    "  COUNT(*)::text as value,\n",
    "  'Idle connections' as short_desc\n",
    "FROM pg_stat_activity  \n",
    "WHERE pid <> pg_backend_pid() \n",
    "AND state in ('idle in transaction', 'idle');\"\"\"\n",
    "\n",
    "df = pd.read_sql_query(query_ccnnections_metrics, connection)\n",
    "\n",
    "df"
   ]
  },
  {
   "attachments": {},
   "cell_type": "markdown",
   "metadata": {},
   "source": [
    "Connections Breakdown by DB"
   ]
  },
  {
   "cell_type": "code",
   "execution_count": 21,
   "metadata": {},
   "outputs": [
    {
     "data": {
      "image/png": "[encoded data removed]",
      "text/plain": [
       "<Figure size 640x480 with 1 Axes>"
      ]
     },
     "metadata": {},
     "output_type": "display_data"
    }
   ],
   "source": [
    "query_ccnnections_metrics = \"\"\"\n",
    "SELECT datname as database, \n",
    "       COUNT(*) FILTER (WHERE state = 'active') AS active_connections, \n",
    "       COUNT(*) FILTER (WHERE state = 'idle') AS idle_connections\n",
    "FROM pg_stat_activity\n",
    "WHERE datname IS NOT NULL\n",
    "GROUP BY datname\n",
    "ORDER BY datname\n",
    "\"\"\"\n",
    "\n",
    "df = pd.read_sql_query(query_ccnnections_metrics, connection)\n",
    "df\n",
    "\n",
    "# Plot the results as a bar chart\n",
    "ax = df.plot(kind='bar', x='database', stacked=True)\n",
    "ax.set_xlabel('database')\n",
    "ax.set_ylabel('Number of Connections')\n",
    "ax.set_title('Active and Idle Connections per Database')\n",
    "plt.show()"
   ]
  },
  {
   "attachments": {},
   "cell_type": "markdown",
   "metadata": {},
   "source": [
    "Print the HTML created while running the notebook. "
   ]
  },
  {
   "cell_type": "code",
   "execution_count": 22,
   "metadata": {},
   "outputs": [
    {
     "data": {
      "text/html": [
       "<h1>Metis Wrokflows - PG Server Connections Analysis</h1><h2>Configuration</h2><p>Max Connections: <span style=\"color: yellow;\">835</span></p><p>High CPU Start Time: <span style=\"color: yellow;\">2023-May-04 17:44:09 </span></p><h2>Connections Per DB</h2>\n",
       "<table>\n",
       "  <thead>\n",
       "    <tr>\n",
       "      <th>database_name</th>\n",
       "      <th>active_connections</th>\n",
       "      <th>idle_connections</th>\n",
       "    </tr>\n",
       "  </thead>\n",
       "  <tbody>\n",
       "    <tr>\n",
       "      <td>Database A</td>\n",
       "      <td>10</td>\n",
       "      <td>5</td>\n",
       "    </tr>\n",
       "    <tr>\n",
       "      <td>Database B</td>\n",
       "      <td>5</td>\n",
       "      <td>2</td>\n",
       "    </tr>\n",
       "    <tr>\n",
       "      <td>Database C</td>\n",
       "      <td>7</td>\n",
       "      <td>3</td>\n",
       "    </tr>\n",
       "    <tr>\n",
       "      <td>Database D</td>\n",
       "      <td>3</td>\n",
       "      <td>1</td>\n",
       "    </tr>\n",
       "  </tbody>\n",
       "</table>\n",
       "\n"
      ],
      "text/plain": [
       "<IPython.core.display.HTML object>"
      ]
     },
     "execution_count": 22,
     "metadata": {},
     "output_type": "execute_result"
    }
   ],
   "source": [
    "\n",
    "\n",
    "html_code = html_code + \"<p>Max Connections: <span style=\\\"color: yellow;\\\">835</span></p>\"\n",
    "html_code = html_code + \"<p>High CPU Start Time: <span style=\\\"color: yellow;\\\">2023-May-04 17:44:09 </span></p>\"\n",
    "html_code = html_code + \"<h2>Connections Per DB</h2>\"\n",
    "html_code = html_code + \"\"\"\n",
    "<table>\n",
    "  <thead>\n",
    "    <tr>\n",
    "      <th>database_name</th>\n",
    "      <th>active_connections</th>\n",
    "      <th>idle_connections</th>\n",
    "    </tr>\n",
    "  </thead>\n",
    "  <tbody>\n",
    "    <tr>\n",
    "      <td>Database A</td>\n",
    "      <td>10</td>\n",
    "      <td>5</td>\n",
    "    </tr>\n",
    "    <tr>\n",
    "      <td>Database B</td>\n",
    "      <td>5</td>\n",
    "      <td>2</td>\n",
    "    </tr>\n",
    "    <tr>\n",
    "      <td>Database C</td>\n",
    "      <td>7</td>\n",
    "      <td>3</td>\n",
    "    </tr>\n",
    "    <tr>\n",
    "      <td>Database D</td>\n",
    "      <td>3</td>\n",
    "      <td>1</td>\n",
    "    </tr>\n",
    "  </tbody>\n",
    "</table>\n",
    "\n",
    "\"\"\"\n",
    "HTML(html_code)\n"
   ]
  }
 ],
 "metadata": {
  "kernelspec": {
   "display_name": "Python 3",
   "language": "python",
   "name": "python3"
  },
  "language_info": {
   "codemirror_mode": {
    "name": "ipython",
    "version": 3
   },
   "file_extension": ".py",
   "mimetype": "text/x-python",
   "name": "python",
   "nbconvert_exporter": "python",
   "pygments_lexer": "ipython3",
   "version": "3.10.2"
  },
  "orig_nbformat": 4
 },
 "nbformat": 4,
 "nbformat_minor": 2
}
